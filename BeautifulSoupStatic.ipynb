{
  "nbformat": 4,
  "nbformat_minor": 0,
  "metadata": {
    "colab": {
      "provenance": []
    },
    "kernelspec": {
      "name": "python3",
      "display_name": "Python 3"
    },
    "language_info": {
      "name": "python"
    }
  },
  "cells": [
    {
      "cell_type": "code",
      "execution_count": null,
      "metadata": {
        "id": "yiza7iQCWO4a"
      },
      "outputs": [],
      "source": [
        "from bs4 import BeautifulSoup\n",
        "from urllib.request import urlopen\n",
        "\n",
        "url = \"http://olympus.realpython.org/profiles/dionysus\"\n",
        "page = urlopen(url)\n",
        "html = page.read().decode(\"utf-8\")\n",
        "soup = BeautifulSoup(html, \"html.parser\")"
      ]
    },
    {
      "cell_type": "code",
      "source": [
        "soup.get_text()"
      ],
      "metadata": {
        "colab": {
          "base_uri": "https://localhost:8080/",
          "height": 35
        },
        "id": "CXb1_oLWXJ4R",
        "outputId": "a6f90c18-b9f3-4de8-c69b-5389d6e8bc7b"
      },
      "execution_count": null,
      "outputs": [
        {
          "output_type": "execute_result",
          "data": {
            "text/plain": [
              "'\\n\\nProfile: Dionysus\\n\\n\\n\\n\\n\\nName: Dionysus\\n\\nHometown: Mount Olympus\\n\\nFavorite animal: Leopard \\n\\nFavorite Color: Wine\\n\\n\\n\\n'"
            ],
            "application/vnd.google.colaboratory.intrinsic+json": {
              "type": "string"
            }
          },
          "metadata": {},
          "execution_count": 3
        }
      ]
    },
    {
      "cell_type": "code",
      "source": [
        "soup.title\n",
        "# soup.title.string"
      ],
      "metadata": {
        "colab": {
          "base_uri": "https://localhost:8080/",
          "height": 35
        },
        "id": "yVUGF31jXflU",
        "outputId": "d885fb96-e025-4df6-9d56-4e62b0d27235"
      },
      "execution_count": null,
      "outputs": [
        {
          "output_type": "execute_result",
          "data": {
            "text/plain": [
              "'Profile: Dionysus'"
            ],
            "application/vnd.google.colaboratory.intrinsic+json": {
              "type": "string"
            }
          },
          "metadata": {},
          "execution_count": 5
        }
      ]
    },
    {
      "cell_type": "code",
      "source": [
        "img = soup.find_all(\"img\")\n",
        "\n",
        "for i in img:\n",
        "  print(i[\"src\"])"
      ],
      "metadata": {
        "colab": {
          "base_uri": "https://localhost:8080/"
        },
        "id": "2k4qncC8Xrwd",
        "outputId": "21394f26-fcac-4e8b-86d5-18ec3621b4f9"
      },
      "execution_count": null,
      "outputs": [
        {
          "output_type": "stream",
          "name": "stdout",
          "text": [
            "/static/dionysus.jpg\n",
            "/static/grapes.png\n"
          ]
        }
      ]
    },
    {
      "cell_type": "markdown",
      "source": [
        "Exercise:\n",
        "\n",
        "Write a program that grabs the full HTML from the page at the URL http://olympus.realpython.org/profiles.\n",
        "\n",
        "Using Beautiful Soup, print out a list of all the links on the page by looking for HTML tags with the name a and retrieving the value taken on by the href attribute of each tag.\n",
        "\n",
        "The final output should look like this:\n",
        "\n",
        "http://olympus.realpython.org/profiles/aphrodite\n",
        "\n",
        "http://olympus.realpython.org/profiles/poseidon\n",
        "\n",
        "http://olympus.realpython.org/profiles/dionysus"
      ],
      "metadata": {
        "id": "640XT4P48doF"
      }
    },
    {
      "cell_type": "code",
      "source": [
        "from bs4 import BeautifulSoup\n",
        "from urllib.request import urlopen\n",
        "\n",
        "url = \"http://olympus.realpython.org/profiles\"\n",
        "page = urlopen(url)\n",
        "html = page.read().decode(\"utf-8\")\n",
        "soup = BeautifulSoup(html, \"html.parser\")\n",
        "\n",
        "links = soup.find_all(\"a\")\n",
        "\n",
        "for link in links:\n",
        "  print(f\"http://olympus.realpython.org/profiles{link['href']}\")"
      ],
      "metadata": {
        "colab": {
          "base_uri": "https://localhost:8080/"
        },
        "id": "022sy5gm76Ma",
        "outputId": "c8d2df94-3404-41f6-b6a7-c5457011d6ec"
      },
      "execution_count": null,
      "outputs": [
        {
          "output_type": "stream",
          "name": "stdout",
          "text": [
            "http://olympus.realpython.org/profiles/profiles/aphrodite\n",
            "http://olympus.realpython.org/profiles/profiles/poseidon\n",
            "http://olympus.realpython.org/profiles/profiles/dionysus\n"
          ]
        }
      ]
    }
  ]
}