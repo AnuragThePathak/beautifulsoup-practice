{
  "nbformat": 4,
  "nbformat_minor": 0,
  "metadata": {
    "colab": {
      "provenance": []
    },
    "kernelspec": {
      "name": "python3",
      "display_name": "Python 3"
    },
    "language_info": {
      "name": "python"
    }
  },
  "cells": [
    {
      "cell_type": "code",
      "execution_count": null,
      "metadata": {
        "colab": {
          "base_uri": "https://localhost:8080/"
        },
        "id": "MPrk-cUy-L4e",
        "outputId": "3eb20638-f003-4730-eea8-4aa4812ce1cb"
      },
      "outputs": [
        {
          "output_type": "stream",
          "name": "stdout",
          "text": [
            "Looking in indexes: https://pypi.org/simple, https://us-python.pkg.dev/colab-wheels/public/simple/\n",
            "Requirement already satisfied: mechanicalsoup in /usr/local/lib/python3.10/dist-packages (1.2.0)\n",
            "Requirement already satisfied: requests>=2.22.0 in /usr/local/lib/python3.10/dist-packages (from mechanicalsoup) (2.27.1)\n",
            "Requirement already satisfied: beautifulsoup4>=4.7 in /usr/local/lib/python3.10/dist-packages (from mechanicalsoup) (4.11.2)\n",
            "Requirement already satisfied: lxml in /usr/local/lib/python3.10/dist-packages (from mechanicalsoup) (4.9.2)\n",
            "Requirement already satisfied: soupsieve>1.2 in /usr/local/lib/python3.10/dist-packages (from beautifulsoup4>=4.7->mechanicalsoup) (2.4.1)\n",
            "Requirement already satisfied: urllib3<1.27,>=1.21.1 in /usr/local/lib/python3.10/dist-packages (from requests>=2.22.0->mechanicalsoup) (1.26.15)\n",
            "Requirement already satisfied: certifi>=2017.4.17 in /usr/local/lib/python3.10/dist-packages (from requests>=2.22.0->mechanicalsoup) (2022.12.7)\n",
            "Requirement already satisfied: charset-normalizer~=2.0.0 in /usr/local/lib/python3.10/dist-packages (from requests>=2.22.0->mechanicalsoup) (2.0.12)\n",
            "Requirement already satisfied: idna<4,>=2.5 in /usr/local/lib/python3.10/dist-packages (from requests>=2.22.0->mechanicalsoup) (3.4)\n"
          ]
        }
      ],
      "source": [
        "!pip install mechanicalsoup"
      ]
    },
    {
      "cell_type": "code",
      "source": [
        "import mechanicalsoup\n",
        "\n",
        "browser = mechanicalsoup.Browser()"
      ],
      "metadata": {
        "id": "It1t4Z7xFoJ9"
      },
      "execution_count": null,
      "outputs": []
    },
    {
      "cell_type": "code",
      "source": [
        "url = \"http://olympus.realpython.org/login\"\n",
        "page = browser.get(url)\n",
        "print(page)\n",
        "\n",
        "html = page.soup\n",
        "print(html)\n",
        "\n",
        "form = html.select(\"form\")[0]\n",
        "form.select(\"input\")[0][\"value\"] = \"zeus\"\n",
        "form.select(\"input\")[1][\"value\"] = \"ThunderDude\"\n",
        "\n",
        "page = browser.submit(form, page.url)\n",
        "page.url"
      ],
      "metadata": {
        "colab": {
          "base_uri": "https://localhost:8080/",
          "height": 375
        },
        "id": "JSh3SgIoHkFc",
        "outputId": "de656f99-8a05-43b7-c63e-90a18905384f"
      },
      "execution_count": null,
      "outputs": [
        {
          "output_type": "stream",
          "name": "stdout",
          "text": [
            "<Response [200]>\n",
            "<html>\n",
            "<head>\n",
            "<title>Log In</title>\n",
            "</head>\n",
            "<body bgcolor=\"yellow\">\n",
            "<center>\n",
            "<br/><br/>\n",
            "<h2>Please log in to access Mount Olympus:</h2>\n",
            "<br/><br/>\n",
            "<form action=\"/login\" method=\"post\" name=\"login\">\n",
            "Username: <input name=\"user\" type=\"text\"/><br/>\n",
            "Password: <input name=\"pwd\" type=\"password\"/><br/><br/>\n",
            "<input type=\"submit\" value=\"Submit\"/>\n",
            "</form>\n",
            "</center>\n",
            "</body>\n",
            "</html>\n",
            "\n"
          ]
        },
        {
          "output_type": "execute_result",
          "data": {
            "text/plain": [
              "'http://olympus.realpython.org/profiles'"
            ],
            "application/vnd.google.colaboratory.intrinsic+json": {
              "type": "string"
            }
          },
          "metadata": {},
          "execution_count": 36
        }
      ]
    },
    {
      "cell_type": "code",
      "source": [
        "html = page.soup\n",
        "links = html.select(\"a\")\n",
        "\n",
        "base_url = \"http://olympus.realpython.org\"\n",
        "for link in links:\n",
        "  print(f\"{link.text}: {base_url + link['href']}\")"
      ],
      "metadata": {
        "colab": {
          "base_uri": "https://localhost:8080/"
        },
        "id": "5-Q8iSTzXN81",
        "outputId": "cdded487-4779-471b-f3ee-973e8804183f"
      },
      "execution_count": null,
      "outputs": [
        {
          "output_type": "stream",
          "name": "stdout",
          "text": [
            "Aphrodite: http://olympus.realpython.org/profiles/aphrodite\n",
            "Poseidon: http://olympus.realpython.org/profiles/poseidon\n",
            "Dionysus: http://olympus.realpython.org/profiles/dionysus\n"
          ]
        }
      ]
    }
  ]
}