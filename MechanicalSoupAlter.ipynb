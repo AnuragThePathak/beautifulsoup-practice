{
  "nbformat": 4,
  "nbformat_minor": 0,
  "metadata": {
    "colab": {
      "provenance": []
    },
    "kernelspec": {
      "name": "python3",
      "display_name": "Python 3"
    },
    "language_info": {
      "name": "python"
    }
  },
  "cells": [
    {
      "cell_type": "code",
      "execution_count": 1,
      "metadata": {
        "colab": {
          "base_uri": "https://localhost:8080/"
        },
        "id": "aZDazuZEkqPV",
        "outputId": "8d0af706-8d81-4694-a1c0-ed3e45fcee6d"
      },
      "outputs": [
        {
          "output_type": "stream",
          "name": "stdout",
          "text": [
            "Looking in indexes: https://pypi.org/simple, https://us-python.pkg.dev/colab-wheels/public/simple/\n",
            "Collecting mechanicalsoup\n",
            "  Downloading MechanicalSoup-1.2.0-py3-none-any.whl (19 kB)\n",
            "Requirement already satisfied: requests>=2.22.0 in /usr/local/lib/python3.10/dist-packages (from mechanicalsoup) (2.27.1)\n",
            "Requirement already satisfied: beautifulsoup4>=4.7 in /usr/local/lib/python3.10/dist-packages (from mechanicalsoup) (4.11.2)\n",
            "Requirement already satisfied: lxml in /usr/local/lib/python3.10/dist-packages (from mechanicalsoup) (4.9.2)\n",
            "Requirement already satisfied: soupsieve>1.2 in /usr/local/lib/python3.10/dist-packages (from beautifulsoup4>=4.7->mechanicalsoup) (2.4.1)\n",
            "Requirement already satisfied: urllib3<1.27,>=1.21.1 in /usr/local/lib/python3.10/dist-packages (from requests>=2.22.0->mechanicalsoup) (1.26.15)\n",
            "Requirement already satisfied: certifi>=2017.4.17 in /usr/local/lib/python3.10/dist-packages (from requests>=2.22.0->mechanicalsoup) (2022.12.7)\n",
            "Requirement already satisfied: charset-normalizer~=2.0.0 in /usr/local/lib/python3.10/dist-packages (from requests>=2.22.0->mechanicalsoup) (2.0.12)\n",
            "Requirement already satisfied: idna<4,>=2.5 in /usr/local/lib/python3.10/dist-packages (from requests>=2.22.0->mechanicalsoup) (3.4)\n",
            "Installing collected packages: mechanicalsoup\n",
            "Successfully installed mechanicalsoup-1.2.0\n"
          ]
        }
      ],
      "source": [
        "!pip install mechanicalsoup"
      ]
    },
    {
      "cell_type": "code",
      "source": [
        "import mechanicalsoup\n",
        "\n",
        "browser = mechanicalsoup.StatefulBrowser()"
      ],
      "metadata": {
        "id": "7pmubvpikrdy"
      },
      "execution_count": 2,
      "outputs": []
    },
    {
      "cell_type": "code",
      "source": [
        "url = \"http://olympus.realpython.org/login\"\n",
        "\n",
        "browser.open(url)\n",
        "browser.url"
      ],
      "metadata": {
        "colab": {
          "base_uri": "https://localhost:8080/",
          "height": 35
        },
        "id": "WOQr4iwCk41P",
        "outputId": "aa94cb21-4c83-4810-aab2-9fffc008cc66"
      },
      "execution_count": 3,
      "outputs": [
        {
          "output_type": "execute_result",
          "data": {
            "text/plain": [
              "'http://olympus.realpython.org/login'"
            ],
            "application/vnd.google.colaboratory.intrinsic+json": {
              "type": "string"
            }
          },
          "metadata": {},
          "execution_count": 3
        }
      ]
    },
    {
      "cell_type": "code",
      "source": [
        "browser.select_form('form[action=\"/login\"]')\n",
        "browser.form.print_summary()"
      ],
      "metadata": {
        "colab": {
          "base_uri": "https://localhost:8080/"
        },
        "id": "b29ZvSynQNGI",
        "outputId": "bb3a7012-d950-42cb-e578-72fca6de94f3"
      },
      "execution_count": 4,
      "outputs": [
        {
          "output_type": "stream",
          "name": "stdout",
          "text": [
            "<input name=\"user\" type=\"text\"/>\n",
            "<input name=\"pwd\" type=\"password\"/>\n",
            "<input type=\"submit\" value=\"Submit\"/>\n"
          ]
        }
      ]
    },
    {
      "cell_type": "code",
      "source": [
        "browser[\"user\"] = \"zeus\"\n",
        "browser[\"pwd\"] = \"ThunderDude\"\n",
        "response = browser.submit_selected()\n",
        "print(response.text)"
      ],
      "metadata": {
        "colab": {
          "base_uri": "https://localhost:8080/"
        },
        "id": "jHBuxr9bRDNp",
        "outputId": "3a509be8-604a-4bb4-beae-b4b0d507399d"
      },
      "execution_count": 6,
      "outputs": [
        {
          "output_type": "stream",
          "name": "stdout",
          "text": [
            "<html>\n",
            "<head>\n",
            "<title>All Profiles</title>\n",
            "</head>\n",
            "<body bgcolor=\"yellow\">\n",
            "<center>\n",
            "<br><br>\n",
            "<h1>All Profiles:</h1>\n",
            "<br><br>\n",
            "<h2>\n",
            "<a href=\"/profiles/aphrodite\">Aphrodite</a>\n",
            "<br><br>\n",
            "<a href=\"/profiles/poseidon\">Poseidon</a>\n",
            "<br><br>\n",
            "<a href=\"/profiles/dionysus\">Dionysus</a>\n",
            "</h2>\n",
            "</center>\n",
            "</body>\n",
            "</html>\n",
            "\n"
          ]
        }
      ]
    }
  ]
}